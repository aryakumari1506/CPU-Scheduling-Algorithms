{
 "cells": [
  {
   "cell_type": "code",
   "execution_count": 1,
   "metadata": {},
   "outputs": [
    {
     "name": "stdout",
     "output_type": "stream",
     "text": [
      "Executing A for 50.0% of time\n",
      "Executing B for 16.67% of time\n",
      "Executing C for 33.33% of time\n"
     ]
    }
   ],
   "source": [
    "def wfq(tasks):\n",
    "    total = sum(t[1] for t in tasks)\n",
    "    for t, w in tasks:\n",
    "        print(f\"Executing {t} for {round((w / total) * 100, 2)}% of time\")\n",
    "\n",
    "tasks = [('A', 3), ('B', 1), ('C', 2)]\n",
    "wfq(tasks)\n"
   ]
  }
 ],
 "metadata": {
  "kernelspec": {
   "display_name": "base",
   "language": "python",
   "name": "python3"
  },
  "language_info": {
   "codemirror_mode": {
    "name": "ipython",
    "version": 3
   },
   "file_extension": ".py",
   "mimetype": "text/x-python",
   "name": "python",
   "nbconvert_exporter": "python",
   "pygments_lexer": "ipython3",
   "version": "3.9.15"
  }
 },
 "nbformat": 4,
 "nbformat_minor": 2
}
