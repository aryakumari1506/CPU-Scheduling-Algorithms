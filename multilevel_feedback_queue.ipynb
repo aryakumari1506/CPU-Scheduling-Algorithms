{
 "cells": [
  {
   "cell_type": "code",
   "execution_count": 2,
   "metadata": {},
   "outputs": [
    {
     "name": "stdout",
     "output_type": "stream",
     "text": [
      "Executing A in Q0\n",
      "Executing B in Q0\n",
      "Executing C in Q0\n",
      "Executing A completely in Q1\n",
      "Executing B in Q1\n",
      "Executing C completely in Q1\n"
     ]
    }
   ],
   "source": [
    "from collections import deque\n",
    "\n",
    "def mlfq(tasks, tqs):\n",
    "    qs = [deque() for _ in tqs]\n",
    "    for t in tasks:\n",
    "        qs[0].append(t)\n",
    "\n",
    "    for i, tq in enumerate(tqs):\n",
    "        while qs[i]:\n",
    "            t, tm = qs[i].popleft()\n",
    "            if tm > tq:\n",
    "                if i + 1 < len(qs):\n",
    "                    qs[i + 1].append((t, tm - tq))\n",
    "                print(f\"Executing {t} in Q{i}\")\n",
    "            else:\n",
    "                print(f\"Executing {t} completely in Q{i}\")\n",
    "\n",
    "tasks = [('A', 5), ('B', 8), ('C', 3)]\n",
    "mlfq(tasks, [2, 4])\n"
   ]
  }
 ],
 "metadata": {
  "kernelspec": {
   "display_name": "base",
   "language": "python",
   "name": "python3"
  },
  "language_info": {
   "codemirror_mode": {
    "name": "ipython",
    "version": 3
   },
   "file_extension": ".py",
   "mimetype": "text/x-python",
   "name": "python",
   "nbconvert_exporter": "python",
   "pygments_lexer": "ipython3",
   "version": "3.9.15"
  }
 },
 "nbformat": 4,
 "nbformat_minor": 2
}
