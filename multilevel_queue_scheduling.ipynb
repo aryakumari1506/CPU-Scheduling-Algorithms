{
 "cells": [
  {
   "cell_type": "code",
   "execution_count": 1,
   "metadata": {},
   "outputs": [
    {
     "name": "stdout",
     "output_type": "stream",
     "text": [
      "Executing A\n",
      "Executing B\n",
      "Executing C\n",
      "Executing D\n"
     ]
    }
   ],
   "source": [
    "from collections import deque\n",
    "\n",
    "def mlq(tasks, tq):\n",
    "    high, low = deque(), deque()\n",
    "    for t in tasks:\n",
    "        (high if t[1] == 'H' else low).append(t)\n",
    "    \n",
    "    while high or low:\n",
    "        if high:\n",
    "            t, tm, _ = high.popleft()\n",
    "            if tm > tq:\n",
    "                high.append((t, tm - tq, 'H'))\n",
    "            print(f\"Executing {t}\")\n",
    "        elif low:\n",
    "            t, tm, _ = low.popleft()\n",
    "            print(f\"Executing {t}\")\n",
    "\n",
    "tasks = [('A', 5, 'H'), ('B', 3, 'L'), ('C', 8, 'H'), ('D', 6, 'L')]\n",
    "mlq(tasks, 2)\n"
   ]
  }
 ],
 "metadata": {
  "kernelspec": {
   "display_name": "base",
   "language": "python",
   "name": "python3"
  },
  "language_info": {
   "codemirror_mode": {
    "name": "ipython",
    "version": 3
   },
   "file_extension": ".py",
   "mimetype": "text/x-python",
   "name": "python",
   "nbconvert_exporter": "python",
   "pygments_lexer": "ipython3",
   "version": "3.9.15"
  }
 },
 "nbformat": 4,
 "nbformat_minor": 2
}
