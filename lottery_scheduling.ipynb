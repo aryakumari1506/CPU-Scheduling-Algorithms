{
 "cells": [
  {
   "cell_type": "code",
   "execution_count": 1,
   "metadata": {},
   "outputs": [
    {
     "name": "stdout",
     "output_type": "stream",
     "text": [
      "Executing C\n",
      "Executing B\n",
      "Executing A\n"
     ]
    }
   ],
   "source": [
    "import random\n",
    "\n",
    "def lottery(tasks):\n",
    "    pool = sum(([t[0]] * t[1] for t in tasks), [])\n",
    "    for _ in range(len(tasks)):\n",
    "        print(f\"Executing {random.choice(pool)}\")\n",
    "\n",
    "tasks = [('A', 3), ('B', 1), ('C', 2)]\n",
    "lottery(tasks)\n"
   ]
  }
 ],
 "metadata": {
  "kernelspec": {
   "display_name": "base",
   "language": "python",
   "name": "python3"
  },
  "language_info": {
   "codemirror_mode": {
    "name": "ipython",
    "version": 3
   },
   "file_extension": ".py",
   "mimetype": "text/x-python",
   "name": "python",
   "nbconvert_exporter": "python",
   "pygments_lexer": "ipython3",
   "version": "3.9.15"
  }
 },
 "nbformat": 4,
 "nbformat_minor": 2
}
