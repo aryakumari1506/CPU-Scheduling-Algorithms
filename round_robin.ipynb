{
 "cells": [
  {
   "cell_type": "markdown",
   "metadata": {},
   "source": [
    "Step 1: Define the process class"
   ]
  },
  {
   "cell_type": "code",
   "execution_count": 2,
   "metadata": {},
   "outputs": [],
   "source": [
    "class Process:\n",
    "    def __init__(self, pid, arrival_time, burst_time):\n",
    "        self.pid = pid\n",
    "        self.arrival_time = arrival_time\n",
    "        self.burst_time = burst_time\n",
    "        self.remaining_time = burst_time\n",
    "        self.waiting_time = 0\n",
    "        self.turnaround_time = 0\n"
   ]
  },
  {
   "cell_type": "markdown",
   "metadata": {},
   "source": [
    "Step 2: Create the Round Robin Scheduler Function"
   ]
  },
  {
   "cell_type": "code",
   "execution_count": 3,
   "metadata": {},
   "outputs": [],
   "source": [
    "def round_robin(processes, time_quantum):\n",
    "    n = len(processes)\n",
    "    time = 0\n",
    "    queue = []\n",
    "    ready_queue = []\n",
    "    context_switches = 0\n",
    "\n",
    "    processes.sort(key=lambda x: x.arrival_time)\n",
    "    \n",
    "    for process in processes:\n",
    "        if process.arrival_time <= time:\n",
    "            queue.append(process)\n",
    "\n",
    "    while queue:\n",
    "        process = queue.pop(0)\n",
    "        if process.remaining_time > time_quantum:\n",
    "            time += time_quantum\n",
    "            process.remaining_time -= time_quantum\n",
    "            for proc in processes:\n",
    "                if proc.arrival_time <= time and proc.remaining_time > 0 and proc not in queue:\n",
    "                    queue.append(proc)\n",
    "            queue.append(process)\n",
    "            context_switches += 1\n",
    "        else:\n",
    "            time += process.remaining_time\n",
    "            process.turnaround_time = time - process.arrival_time\n",
    "            process.waiting_time = process.turnaround_time - process.burst_time\n",
    "            process.remaining_time = 0\n",
    "            ready_queue.append(process.pid)\n",
    "            for proc in processes:\n",
    "                if proc.arrival_time <= time and proc.remaining_time > 0 and proc not in queue:\n",
    "                    queue.append(proc)\n",
    "\n",
    "    return processes, ready_queue, context_switches"
   ]
  },
  {
   "cell_type": "markdown",
   "metadata": {},
   "source": [
    "Step 3: Calculate Average Waiting and Turnaround Times\n"
   ]
  },
  {
   "cell_type": "code",
   "execution_count": 4,
   "metadata": {},
   "outputs": [],
   "source": [
    "def calculate_average_times(processes):\n",
    "    total_waiting_time = 0\n",
    "    total_turnaround_time = 0\n",
    "    n = len(processes)\n",
    "    \n",
    "    for process in processes:\n",
    "        total_waiting_time += process.waiting_time\n",
    "        total_turnaround_time += process.turnaround_time\n",
    "    \n",
    "    avg_waiting_time = total_waiting_time / n\n",
    "    avg_turnaround_time = total_turnaround_time / n\n",
    "    \n",
    "    return avg_waiting_time, avg_turnaround_time"
   ]
  },
  {
   "cell_type": "markdown",
   "metadata": {},
   "source": [
    "Step 4: Main Function to Execute the Scheduler"
   ]
  },
  {
   "cell_type": "code",
   "execution_count": 5,
   "metadata": {},
   "outputs": [
    {
     "name": "stdout",
     "output_type": "stream",
     "text": [
      "\n",
      "Process ID\tArrival time\tBurst time\tWaiting time\tTurnaround time\n",
      "1\t\t0\t\t5\t\t6\t\t11\n",
      "2\t\t1\t\t6\t\t7\t\t13\n",
      "3\t\t1\t\t5\t\t10\t\t15\n",
      "\n",
      "Average waiting time: 7.666666666666667\n",
      "\n",
      "Average turnaround time: 13.0\n",
      "\n",
      "Ready queue: [1, 1, 2, 2, 3, 3]\n",
      "\n",
      "Number of context switches: 3\n"
     ]
    }
   ],
   "source": [
    "def main():\n",
    "    processes = []\n",
    "    n = int(input(\"Enter the number of processes: \"))\n",
    "    for i in range(n):\n",
    "        pid = i + 1\n",
    "        arrival_time = int(input(f\"Enter arrival time for process {pid}: \"))\n",
    "        burst_time = int(input(f\"Enter burst time for process {pid}: \"))\n",
    "        processes.append(Process(pid, arrival_time, burst_time))\n",
    "\n",
    "    time_quantum = int(input(\"Enter time quantum: \"))\n",
    "    scheduled_processes, ready_queue, context_switches = round_robin(processes, time_quantum)\n",
    "    avg_waiting_time, avg_turnaround_time = calculate_average_times(scheduled_processes)\n",
    "\n",
    "    print(\"\\nProcess ID\\tArrival time\\tBurst time\\tWaiting time\\tTurnaround time\")\n",
    "    for process in scheduled_processes:\n",
    "        print(f\"{process.pid}\\t\\t{process.arrival_time}\\t\\t{process.burst_time}\\t\\t{process.waiting_time}\\t\\t{process.turnaround_time}\")\n",
    "    \n",
    "    print(f\"\\nAverage waiting time: {avg_waiting_time}\")\n",
    "    print(f\"\\nAverage turnaround time: {avg_turnaround_time}\")\n",
    "    print(f\"\\nReady queue: {ready_queue}\")\n",
    "    print(f\"\\nNumber of context switches: {context_switches}\")\n",
    "\n",
    "if __name__ == \"__main__\":\n",
    "    main()"
   ]
  }
 ],
 "metadata": {
  "kernelspec": {
   "display_name": "base",
   "language": "python",
   "name": "python3"
  },
  "language_info": {
   "codemirror_mode": {
    "name": "ipython",
    "version": 3
   },
   "file_extension": ".py",
   "mimetype": "text/x-python",
   "name": "python",
   "nbconvert_exporter": "python",
   "pygments_lexer": "ipython3",
   "version": "3.9.15"
  }
 },
 "nbformat": 4,
 "nbformat_minor": 2
}
