{
 "cells": [
  {
   "cell_type": "code",
   "execution_count": 1,
   "metadata": {},
   "outputs": [
    {
     "name": "stdout",
     "output_type": "stream",
     "text": [
      "Executing B\n",
      "Executing A\n",
      "Executing C\n"
     ]
    }
   ],
   "source": [
    "def srtf(tasks):\n",
    "    while tasks:\n",
    "        tasks.sort(key=lambda x: x[1])\n",
    "        t, tm = tasks.pop(0)\n",
    "        print(f\"Executing {t}\")\n",
    "        for i in range(len(tasks)):\n",
    "            tasks[i] = (tasks[i][0], max(0, tasks[i][1] - tm))\n",
    "\n",
    "tasks = [('A', 7), ('B', 4), ('C', 9)]\n",
    "srtf(tasks)\n"
   ]
  }
 ],
 "metadata": {
  "kernelspec": {
   "display_name": "base",
   "language": "python",
   "name": "python3"
  },
  "language_info": {
   "codemirror_mode": {
    "name": "ipython",
    "version": 3
   },
   "file_extension": ".py",
   "mimetype": "text/x-python",
   "name": "python",
   "nbconvert_exporter": "python",
   "pygments_lexer": "ipython3",
   "version": "3.9.15"
  }
 },
 "nbformat": 4,
 "nbformat_minor": 2
}
